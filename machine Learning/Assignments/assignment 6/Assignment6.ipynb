{
  "nbformat": 4,
  "nbformat_minor": 0,
  "metadata": {
    "colab": {
      "name": "Assignment6.ipynb",
      "provenance": []
    },
    "kernelspec": {
      "name": "python3",
      "display_name": "Python 3"
    },
    "language_info": {
      "name": "python"
    }
  },
  "cells": [
    {
      "cell_type": "code",
      "metadata": {
        "id": "13PX24YjTDIQ"
      },
      "source": [
        "import numpy as np\n",
        "import pandas as pd"
      ],
      "execution_count": 22,
      "outputs": []
    },
    {
      "cell_type": "code",
      "metadata": {
        "id": "3MU8SYsHS9Vd"
      },
      "source": [
        "from sklearn import datasets\n",
        "iris = datasets.load_iris()"
      ],
      "execution_count": 23,
      "outputs": []
    },
    {
      "cell_type": "code",
      "metadata": {
        "id": "tVtKIxpMU87c"
      },
      "source": [
        "# print(iris)\n"
      ],
      "execution_count": null,
      "outputs": []
    },
    {
      "cell_type": "code",
      "metadata": {
        "id": "-FbwqKd4U_AK"
      },
      "source": [
        "xdata = iris.data\n",
        "xdata = np.array(xdata)\n",
        "print(xdata)"
      ],
      "execution_count": null,
      "outputs": []
    },
    {
      "cell_type": "code",
      "metadata": {
        "id": "4CP7igCKVWwE"
      },
      "source": [
        "ydata = iris.target\n",
        "ydata = np.array(ydata)\n",
        "print(ydata)"
      ],
      "execution_count": null,
      "outputs": []
    },
    {
      "cell_type": "code",
      "metadata": {
        "id": "e-RLvYKxVX5S"
      },
      "source": [
        "index = np.where(ydata == 2)"
      ],
      "execution_count": 28,
      "outputs": []
    },
    {
      "cell_type": "code",
      "metadata": {
        "id": "j8xDW8kOadNl"
      },
      "source": [
        "print(index)"
      ],
      "execution_count": null,
      "outputs": []
    },
    {
      "cell_type": "code",
      "metadata": {
        "id": "z-pBiI95aejf"
      },
      "source": [
        "ydata = np.delete(ydata,index)\n",
        "print(ydata)"
      ],
      "execution_count": null,
      "outputs": []
    },
    {
      "cell_type": "code",
      "metadata": {
        "id": "GMbY4Sfna1sa"
      },
      "source": [
        "xdata = np.delete(xdata,index,0)\n",
        "print(xdata)"
      ],
      "execution_count": null,
      "outputs": []
    },
    {
      "cell_type": "code",
      "metadata": {
        "id": "RJpVLYqva-7R"
      },
      "source": [
        "from sklearn.model_selection import train_test_split"
      ],
      "execution_count": 38,
      "outputs": []
    },
    {
      "cell_type": "code",
      "metadata": {
        "id": "ru4NnBqgbnHW"
      },
      "source": [
        "xtrain,xrem,ytrain,yrem = train_test_split(xdata,ydata,test_size= 0.5,random_state=30)\n",
        "xvalid,xtest,yvalid,ytest = train_test_split(xrem,yrem,test_size= 0.6,random_state=30)"
      ],
      "execution_count": 42,
      "outputs": []
    },
    {
      "cell_type": "code",
      "metadata": {
        "id": "SCaSMsbccgh2"
      },
      "source": [
        ""
      ],
      "execution_count": 46,
      "outputs": []
    },
    {
      "cell_type": "code",
      "metadata": {
        "id": "-wuwNDoLc8as"
      },
      "source": [
        ""
      ],
      "execution_count": null,
      "outputs": []
    }
  ]
}