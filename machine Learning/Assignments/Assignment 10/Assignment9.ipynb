{
  "nbformat": 4,
  "nbformat_minor": 0,
  "metadata": {
    "colab": {
      "name": "Assignment9.ipynb",
      "provenance": []
    },
    "kernelspec": {
      "name": "python3",
      "display_name": "Python 3"
    },
    "language_info": {
      "name": "python"
    }
  },
  "cells": [
    {
      "cell_type": "code",
      "metadata": {
        "id": "7xsiLRIfmCV7"
      },
      "source": [
        "import pandas as pd\n",
        "import numpy as np\n",
        "import matplotlib.pyplot as plt"
      ],
      "execution_count": null,
      "outputs": []
    },
    {
      "cell_type": "code",
      "metadata": {
        "id": "2FOBZL3cmRbt"
      },
      "source": [
        "from sklearn.datasets import load_wine\n",
        "data = load_wine()"
      ],
      "execution_count": null,
      "outputs": []
    },
    {
      "cell_type": "code",
      "metadata": {
        "id": "h5pfN2Iwmi5h"
      },
      "source": [
        "yactual = np.array(data['target'])\n",
        "xdata = np.array(data['data'])\n"
      ],
      "execution_count": null,
      "outputs": []
    },
    {
      "cell_type": "code",
      "metadata": {
        "id": "mLXsyMNnnGnz"
      },
      "source": [
        "# normalization\n",
        "from sklearn.preprocessing import MinMaxScaler\n",
        "scaler = MinMaxScaler()\n",
        "scaler.fit(xdata)\n",
        "xdata = scaler.transform(xdata)\n"
      ],
      "execution_count": null,
      "outputs": []
    },
    {
      "cell_type": "code",
      "metadata": {
        "id": "FapTvP4aocW4"
      },
      "source": [
        "#shuffling\n",
        "from sklearn.utils import shuffle\n",
        "xdata,yactual = shuffle(xdata,yactual)"
      ],
      "execution_count": null,
      "outputs": []
    },
    {
      "cell_type": "code",
      "metadata": {
        "colab": {
          "base_uri": "https://localhost:8080/"
        },
        "id": "Wp9sfttcorko",
        "outputId": "b5562b73-6166-472f-a2a5-4b58d4e2710a"
      },
      "source": [
        "#data splitting\n",
        "from sklearn.model_selection import train_test_split\n",
        "import random\n",
        "xtrain,xtest,ytrain,ytest = train_test_split(xdata,yactual,test_size= 0.3)\n",
        "xtest,xvalid,ytest,yvalid = train_test_split(xtest,ytest,test_size= 0.14)\n",
        "print(xtrain.shape)\n",
        "print(xvalid.shape)\n",
        "print(xtest.shape)"
      ],
      "execution_count": null,
      "outputs": [
        {
          "output_type": "stream",
          "name": "stdout",
          "text": [
            "(124, 13)\n",
            "(8, 13)\n",
            "(46, 13)\n"
          ]
        }
      ]
    },
    {
      "cell_type": "code",
      "metadata": {
        "id": "-SInIuVBp5QA"
      },
      "source": [
        "#kfold\n",
        "from sklearn.model_selection import KFold\n",
        "def Kfold(xdata,yactual):\n",
        "  kf = KFold(n_splits = 5, random_state=1000, shuffle = True)\n",
        "  kf.get_n_splits(xdata)\n",
        "  x_train = []\n",
        "  x_test = []\n",
        "  y_train = []\n",
        "  y_test = []\n",
        "\n",
        "  for train_index ,test_index in kf.split(xdata):\n",
        "    xtr,xte = xdata[train_index],xdata[test_index]\n",
        "    ytr,yte = yactual[train_index],yactual[test_index]\n",
        "    x_train.append(xtr)\n",
        "    x_test.append(xte)\n",
        "    y_train.append(ytr)\n",
        "    y_test.append(yte)\n",
        "\n",
        "  x_train,x_test,y_train,y_test = np.array(x_train),np.array(x_test),np.array(y_train),np.array(y_test)\n",
        "\n",
        "  return x_train,x_test,y_train,y_test\n"
      ],
      "execution_count": null,
      "outputs": []
    },
    {
      "cell_type": "code",
      "metadata": {
        "colab": {
          "base_uri": "https://localhost:8080/"
        },
        "id": "PZSq4zu-sCoE",
        "outputId": "553342a8-5e5a-4bd5-b511-690f76f09269"
      },
      "source": [
        "x_train,x_test,y_train,y_test = Kfold(xdata,yactual)"
      ],
      "execution_count": null,
      "outputs": [
        {
          "output_type": "stream",
          "name": "stderr",
          "text": [
            "/usr/local/lib/python3.7/dist-packages/ipykernel_launcher.py:19: VisibleDeprecationWarning: Creating an ndarray from ragged nested sequences (which is a list-or-tuple of lists-or-tuples-or ndarrays with different lengths or shapes) is deprecated. If you meant to do this, you must specify 'dtype=object' when creating the ndarray\n"
          ]
        }
      ]
    },
    {
      "cell_type": "code",
      "metadata": {
        "id": "mWOHcY9jsQkv"
      },
      "source": [
        "print(x_train)\n",
        "print(x_test)\n",
        "print(y_train)\n",
        "print(y_test)"
      ],
      "execution_count": null,
      "outputs": []
    },
    {
      "cell_type": "code",
      "metadata": {
        "id": "ew_0XT_mseFT"
      },
      "source": [
        "#one hot encoding\n",
        "from sklearn.preprocessing import LabelEncoder\n",
        "from sklearn.preprocessing import OneHotEncoder\n",
        "\n",
        "def onehotencoding(y):\n",
        "  label_encoder = LabelEncoder()\n",
        "  integer_encoded = label_encoder.fit_transform(y)\n",
        "  onehot_encoder = OneHotEncoder(sparse=False)\n",
        "  integer_encoded = integer_encoded.reshape(len(integer_encoded), 1)\n",
        "  onehot_encoded = onehot_encoder.fit_transform(integer_encoded)\n",
        "  return onehot_encoded"
      ],
      "execution_count": null,
      "outputs": []
    },
    {
      "cell_type": "code",
      "metadata": {
        "id": "fsirNYHUufVV"
      },
      "source": [
        "ydata = onehotencoding(yactual)\n",
        "print(ydata)"
      ],
      "execution_count": null,
      "outputs": []
    },
    {
      "cell_type": "code",
      "metadata": {
        "id": "V335TYOXupWb"
      },
      "source": [
        "def intercept(x):\n",
        "  x0 = np.ones((x.shape[0],1))\n",
        "  # print(x0)\n",
        "  # print(np.concatenate((x0,x),axis = 1))\n",
        "  return np.concatenate((x0,x),axis = 1)\n",
        "  "
      ],
      "execution_count": null,
      "outputs": []
    },
    {
      "cell_type": "code",
      "metadata": {
        "colab": {
          "base_uri": "https://localhost:8080/"
        },
        "id": "k7d0y3GRvrBi",
        "outputId": "9a3756ba-67e3-4bd1-e059-32cc1947c22f"
      },
      "source": [
        "x0 = intercept(xdata)\n",
        "print(x0)"
      ],
      "execution_count": null,
      "outputs": [
        {
          "output_type": "stream",
          "name": "stdout",
          "text": [
            "[[1.         0.35263158 0.17588933 ... 0.33333333 0.55311355 0.04564907]\n",
            " [1.         0.5        0.60474308 ... 0.44715447 0.82417582 0.35092725]\n",
            " [1.         0.61315789 0.35968379 ... 0.17886179 0.43956044 0.35805991]\n",
            " ...\n",
            " [1.         0.32105263 0.19565217 ... 0.42276423 0.6959707  0.16547789]\n",
            " [1.         0.37368421 0.45256917 ... 0.15447154 0.16849817 0.42938659]\n",
            " [1.         0.65526316 0.48023715 ... 0.33333333 0.28937729 0.17261056]]\n"
          ]
        }
      ]
    },
    {
      "cell_type": "code",
      "metadata": {
        "id": "TL70RltWv6sG"
      },
      "source": [
        "def loss(h, y):\n",
        "  return sum(-y*np.log(h) - (1-y)*np.log(1-h))\n",
        "  "
      ],
      "execution_count": null,
      "outputs": []
    },
    {
      "cell_type": "code",
      "metadata": {
        "id": "qr3FyZEQxuz5"
      },
      "source": [
        "def mse(h, y):\n",
        "  return (((h-y)**2).mean())/2\n",
        "def mse_in_iter(h, y):\n",
        "  return (sum((h-y)**2))/2"
      ],
      "execution_count": null,
      "outputs": []
    },
    {
      "cell_type": "code",
      "metadata": {
        "id": "Vl_B_5rkxw8k"
      },
      "source": [
        "def sigmoid(x):\n",
        "  return 1/ 1+np.exp()"
      ],
      "execution_count": null,
      "outputs": []
    }
  ]
}