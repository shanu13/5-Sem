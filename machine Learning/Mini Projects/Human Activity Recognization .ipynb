{
 "cells": [
  {
   "cell_type": "code",
   "execution_count": 40,
   "id": "21619023",
   "metadata": {},
   "outputs": [
    {
     "name": "stdout",
     "output_type": "stream",
     "text": [
      "No of Features: 561\n"
     ]
    }
   ],
   "source": [
    "import numpy as np\n",
    "import pandas as pd\n",
    "\n",
    "# get the features from the file features.txt\n",
    "features = list()\n",
    "with open('UCI HAR Dataset/features.txt') as f:\n",
    "    features = [line.split()[1] for line in f.readlines()]\n",
    "print('No of Features: {}'.format(len(features)))"
   ]
  },
  {
   "cell_type": "markdown",
   "id": "56165b10",
   "metadata": {},
   "source": [
    "# Importing the Train Dataset"
   ]
  },
  {
   "cell_type": "code",
   "execution_count": 75,
   "id": "cc0d0aef",
   "metadata": {},
   "outputs": [
    {
     "data": {
      "text/html": [
       "<div>\n",
       "<style scoped>\n",
       "    .dataframe tbody tr th:only-of-type {\n",
       "        vertical-align: middle;\n",
       "    }\n",
       "\n",
       "    .dataframe tbody tr th {\n",
       "        vertical-align: top;\n",
       "    }\n",
       "\n",
       "    .dataframe thead th {\n",
       "        text-align: right;\n",
       "    }\n",
       "</style>\n",
       "<table border=\"1\" class=\"dataframe\">\n",
       "  <thead>\n",
       "    <tr style=\"text-align: right;\">\n",
       "      <th></th>\n",
       "      <th>tBodyAcc-mean()-X</th>\n",
       "      <th>tBodyAcc-mean()-Y</th>\n",
       "      <th>tBodyAcc-mean()-Z</th>\n",
       "      <th>tBodyAcc-std()-X</th>\n",
       "      <th>tBodyAcc-std()-Y</th>\n",
       "      <th>tBodyAcc-std()-Z</th>\n",
       "      <th>tBodyAcc-mad()-X</th>\n",
       "      <th>tBodyAcc-mad()-Y</th>\n",
       "      <th>tBodyAcc-mad()-Z</th>\n",
       "      <th>tBodyAcc-max()-X</th>\n",
       "      <th>...</th>\n",
       "      <th>angle(tBodyAccMean,gravity)</th>\n",
       "      <th>angle(tBodyAccJerkMean),gravityMean)</th>\n",
       "      <th>angle(tBodyGyroMean,gravityMean)</th>\n",
       "      <th>angle(tBodyGyroJerkMean,gravityMean)</th>\n",
       "      <th>angle(X,gravityMean)</th>\n",
       "      <th>angle(Y,gravityMean)</th>\n",
       "      <th>angle(Z,gravityMean)</th>\n",
       "      <th>subject</th>\n",
       "      <th>Activity</th>\n",
       "      <th>ActivityName</th>\n",
       "    </tr>\n",
       "  </thead>\n",
       "  <tbody>\n",
       "    <tr>\n",
       "      <th>6737</th>\n",
       "      <td>0.292841</td>\n",
       "      <td>-0.003978</td>\n",
       "      <td>-0.212058</td>\n",
       "      <td>-0.172445</td>\n",
       "      <td>-0.150709</td>\n",
       "      <td>-0.237318</td>\n",
       "      <td>-0.206369</td>\n",
       "      <td>-0.162485</td>\n",
       "      <td>-0.272344</td>\n",
       "      <td>0.038961</td>\n",
       "      <td>...</td>\n",
       "      <td>0.054552</td>\n",
       "      <td>-0.531654</td>\n",
       "      <td>0.952654</td>\n",
       "      <td>-0.56331</td>\n",
       "      <td>-0.817072</td>\n",
       "      <td>0.173431</td>\n",
       "      <td>-0.088316</td>\n",
       "      <td>29</td>\n",
       "      <td>1</td>\n",
       "      <td>WALKING</td>\n",
       "    </tr>\n",
       "  </tbody>\n",
       "</table>\n",
       "<p>1 rows × 564 columns</p>\n",
       "</div>"
      ],
      "text/plain": [
       "      tBodyAcc-mean()-X  tBodyAcc-mean()-Y  tBodyAcc-mean()-Z  \\\n",
       "6737           0.292841          -0.003978          -0.212058   \n",
       "\n",
       "      tBodyAcc-std()-X  tBodyAcc-std()-Y  tBodyAcc-std()-Z  tBodyAcc-mad()-X  \\\n",
       "6737         -0.172445         -0.150709         -0.237318         -0.206369   \n",
       "\n",
       "      tBodyAcc-mad()-Y  tBodyAcc-mad()-Z  tBodyAcc-max()-X  ...  \\\n",
       "6737         -0.162485         -0.272344          0.038961  ...   \n",
       "\n",
       "      angle(tBodyAccMean,gravity)  angle(tBodyAccJerkMean),gravityMean)  \\\n",
       "6737                     0.054552                             -0.531654   \n",
       "\n",
       "      angle(tBodyGyroMean,gravityMean)  angle(tBodyGyroJerkMean,gravityMean)  \\\n",
       "6737                          0.952654                              -0.56331   \n",
       "\n",
       "      angle(X,gravityMean)  angle(Y,gravityMean)  angle(Z,gravityMean)  \\\n",
       "6737             -0.817072              0.173431             -0.088316   \n",
       "\n",
       "      subject  Activity  ActivityName  \n",
       "6737       29         1       WALKING  \n",
       "\n",
       "[1 rows x 564 columns]"
      ]
     },
     "execution_count": 75,
     "metadata": {},
     "output_type": "execute_result"
    }
   ],
   "source": [
    "\n",
    "\n",
    "# get the data from txt files to pandas dataffame\n",
    "# pd.read_csv() - \"names\" is a LIST which serves as header for the columns\n",
    "X_train = pd.read_csv('UCI HAR dataset/train/X_train.txt', delim_whitespace=True, header=None)\n",
    "X_train.columns = features\n",
    "# add subject column to the dataframe\n",
    "X_train['subject'] = pd.read_csv('UCI HAR dataset/train/subject_train.txt', header=None, squeeze=True)\n",
    "\n",
    "y_train = pd.read_csv('UCI HAR dataset/train/y_train.txt', names=['Activity'], squeeze=True)\n",
    "y_train_labels = y_train.map({1: 'WALKING', 2:'WALKING_UPSTAIRS',3:'WALKING_DOWNSTAIRS',\\\n",
    "                       4:'SITTING', 5:'STANDING',6:'LAYING'})\n",
    "\n",
    "# put all columns in a single dataframe\n",
    "train = X_train\n",
    "train['Activity'] = y_train\n",
    "train.sample()\n",
    "train['ActivityName'] = y_train_labels\n",
    "train.sample()\n"
   ]
  },
  {
   "cell_type": "code",
   "execution_count": 42,
   "id": "b312c55f",
   "metadata": {},
   "outputs": [
    {
     "data": {
      "text/plain": [
       "(7352, 564)"
      ]
     },
     "execution_count": 42,
     "metadata": {},
     "output_type": "execute_result"
    }
   ],
   "source": [
    "train.shape"
   ]
  },
  {
   "cell_type": "markdown",
   "id": "b27e99e6",
   "metadata": {},
   "source": [
    "# Importing Test Dataset"
   ]
  },
  {
   "cell_type": "code",
   "execution_count": 77,
   "id": "d580a56c",
   "metadata": {},
   "outputs": [
    {
     "data": {
      "text/html": [
       "<div>\n",
       "<style scoped>\n",
       "    .dataframe tbody tr th:only-of-type {\n",
       "        vertical-align: middle;\n",
       "    }\n",
       "\n",
       "    .dataframe tbody tr th {\n",
       "        vertical-align: top;\n",
       "    }\n",
       "\n",
       "    .dataframe thead th {\n",
       "        text-align: right;\n",
       "    }\n",
       "</style>\n",
       "<table border=\"1\" class=\"dataframe\">\n",
       "  <thead>\n",
       "    <tr style=\"text-align: right;\">\n",
       "      <th></th>\n",
       "      <th>tBodyAcc-mean()-X</th>\n",
       "      <th>tBodyAcc-mean()-Y</th>\n",
       "      <th>tBodyAcc-mean()-Z</th>\n",
       "      <th>tBodyAcc-std()-X</th>\n",
       "      <th>tBodyAcc-std()-Y</th>\n",
       "      <th>tBodyAcc-std()-Z</th>\n",
       "      <th>tBodyAcc-mad()-X</th>\n",
       "      <th>tBodyAcc-mad()-Y</th>\n",
       "      <th>tBodyAcc-mad()-Z</th>\n",
       "      <th>tBodyAcc-max()-X</th>\n",
       "      <th>...</th>\n",
       "      <th>angle(tBodyAccMean,gravity)</th>\n",
       "      <th>angle(tBodyAccJerkMean),gravityMean)</th>\n",
       "      <th>angle(tBodyGyroMean,gravityMean)</th>\n",
       "      <th>angle(tBodyGyroJerkMean,gravityMean)</th>\n",
       "      <th>angle(X,gravityMean)</th>\n",
       "      <th>angle(Y,gravityMean)</th>\n",
       "      <th>angle(Z,gravityMean)</th>\n",
       "      <th>subject</th>\n",
       "      <th>Activity</th>\n",
       "      <th>ActivityName</th>\n",
       "    </tr>\n",
       "  </thead>\n",
       "  <tbody>\n",
       "    <tr>\n",
       "      <th>2627</th>\n",
       "      <td>0.277157</td>\n",
       "      <td>-0.014446</td>\n",
       "      <td>-0.126383</td>\n",
       "      <td>-0.991881</td>\n",
       "      <td>-0.973857</td>\n",
       "      <td>-0.957058</td>\n",
       "      <td>-0.992261</td>\n",
       "      <td>-0.975354</td>\n",
       "      <td>-0.956943</td>\n",
       "      <td>-0.939542</td>\n",
       "      <td>...</td>\n",
       "      <td>-0.016022</td>\n",
       "      <td>0.007385</td>\n",
       "      <td>-0.063432</td>\n",
       "      <td>0.226628</td>\n",
       "      <td>-0.880829</td>\n",
       "      <td>0.013456</td>\n",
       "      <td>0.034015</td>\n",
       "      <td>24</td>\n",
       "      <td>4</td>\n",
       "      <td>SITTING</td>\n",
       "    </tr>\n",
       "  </tbody>\n",
       "</table>\n",
       "<p>1 rows × 564 columns</p>\n",
       "</div>"
      ],
      "text/plain": [
       "      tBodyAcc-mean()-X  tBodyAcc-mean()-Y  tBodyAcc-mean()-Z  \\\n",
       "2627           0.277157          -0.014446          -0.126383   \n",
       "\n",
       "      tBodyAcc-std()-X  tBodyAcc-std()-Y  tBodyAcc-std()-Z  tBodyAcc-mad()-X  \\\n",
       "2627         -0.991881         -0.973857         -0.957058         -0.992261   \n",
       "\n",
       "      tBodyAcc-mad()-Y  tBodyAcc-mad()-Z  tBodyAcc-max()-X  ...  \\\n",
       "2627         -0.975354         -0.956943         -0.939542  ...   \n",
       "\n",
       "      angle(tBodyAccMean,gravity)  angle(tBodyAccJerkMean),gravityMean)  \\\n",
       "2627                    -0.016022                              0.007385   \n",
       "\n",
       "      angle(tBodyGyroMean,gravityMean)  angle(tBodyGyroJerkMean,gravityMean)  \\\n",
       "2627                         -0.063432                              0.226628   \n",
       "\n",
       "      angle(X,gravityMean)  angle(Y,gravityMean)  angle(Z,gravityMean)  \\\n",
       "2627             -0.880829              0.013456              0.034015   \n",
       "\n",
       "      subject  Activity  ActivityName  \n",
       "2627       24         4       SITTING  \n",
       "\n",
       "[1 rows x 564 columns]"
      ]
     },
     "execution_count": 77,
     "metadata": {},
     "output_type": "execute_result"
    }
   ],
   "source": [
    "X_test = pd.read_csv('UCI HAR dataset/test/X_test.txt', delim_whitespace=True, header=None)\n",
    "X_test.columns = features\n",
    "X_test['subject'] = pd.read_csv('UCI HAR dataset/test/subject_test.txt', header=None, squeeze=True)\n",
    "X_test.sample()\n",
    "\n",
    "y_test = pd.read_csv('UCI HAR dataset/test/y_test.txt', names=['Activity'], squeeze=True)\n",
    "y_test_labels = y_test.map({1: 'WALKING', 2:'WALKING_UPSTAIRS',3:'WALKING_DOWNSTAIRS',\\\n",
    "                       4:'SITTING', 5:'STANDING',6:'LAYING'})\n",
    "\n",
    "test = X_test\n",
    "test['Activity'] = y_test\n",
    "test['ActivityName'] = y_test_labels\n",
    "test.sample()\n"
   ]
  },
  {
   "cell_type": "code",
   "execution_count": 78,
   "id": "a63a4b21",
   "metadata": {},
   "outputs": [
    {
     "data": {
      "text/plain": [
       "(2947, 564)"
      ]
     },
     "execution_count": 78,
     "metadata": {},
     "output_type": "execute_result"
    }
   ],
   "source": [
    "test.shape"
   ]
  },
  {
   "cell_type": "markdown",
   "id": "0507f785",
   "metadata": {},
   "source": [
    "# Checking Data Imbalance"
   ]
  },
  {
   "cell_type": "code",
   "execution_count": 79,
   "id": "f6570aba",
   "metadata": {},
   "outputs": [],
   "source": [
    "import matplotlib.pyplot as plt\n",
    "import seaborn as sns\n",
    "\n",
    "sns.set_style('darkgrid')\n",
    "plt.rcParams['font.family'] = 'Dejavu Sans'"
   ]
  },
  {
   "cell_type": "code",
   "execution_count": 80,
   "id": "e4c00e04",
   "metadata": {},
   "outputs": [
    {
     "data": {
      "image/png": "[encoded data removed]",
      "text/plain": [
       "<Figure size 1152x504 with 1 Axes>"
      ]
     },
     "metadata": {},
     "output_type": "display_data"
    }
   ],
   "source": [
    "\n",
    "plt.figure(figsize=(16,7))\n",
    "plt.title('Data provided by each user', fontsize=20)\n",
    "sns.countplot(x='subject',hue='ActivityName', data = train)\n",
    "plt.show()"
   ]
  },
  {
   "cell_type": "code",
   "execution_count": 88,
   "id": "0e6ed936",
   "metadata": {},
   "outputs": [
    {
     "name": "stdout",
     "output_type": "stream",
     "text": [
      "<class 'list'>\n"
     ]
    },
    {
     "data": {
      "text/plain": [
       "Index(['tBodyAccmeanX', 'tBodyAccmeanY', 'tBodyAccmeanZ', 'tBodyAccstdX',\n",
       "       'tBodyAccstdY', 'tBodyAccstdZ', 'tBodyAccmadX', 'tBodyAccmadY',\n",
       "       'tBodyAccmadZ', 'tBodyAccmaxX',\n",
       "       ...\n",
       "       'angle(tBodyAccMeangravity)', 'angle(tBodyAccJerkMean)gravityMean)',\n",
       "       'angle(tBodyGyroMeangravityMean)',\n",
       "       'angle(tBodyGyroJerkMeangravityMean)', 'angle(XgravityMean)',\n",
       "       'angle(YgravityMean)', 'angle(ZgravityMean)', 'subject', 'Activity',\n",
       "       'ActivityName'],\n",
       "      dtype='object', length=564)"
      ]
     },
     "execution_count": 88,
     "metadata": {},
     "output_type": "execute_result"
    }
   ],
   "source": [
    "columns = train.columns[:-3]\n",
    "# # Removing '()' from column names\n",
    "columns = list(map(lambda a: a.replace('()', ''), columns))\n",
    "columns = list(map(lambda a: a.replace('-',''), columns))\n",
    "columns = list(map(lambda a: a.replace(',',''), columns))\n",
    "# print(columns)\n",
    "print(type(columns + list(train.columns[-3:])))\n",
    "train.columns = columns + list(train.columns[-3:])\n",
    "test.columns = columns + list(test.columns[-3:])\n",
    "\n",
    "test.columns"
   ]
  },
  {
   "cell_type": "code",
   "execution_count": 91,
   "id": "a9805c5b",
   "metadata": {},
   "outputs": [],
   "source": [
    "train.to_csv('UCI HAR Dataset/csv_files/train.csv', index=False)\n",
    "test.to_csv('UCI HAR Dataset/csv_files/test.csv', index=False)"
   ]
  },
  {
   "cell_type": "code",
   "execution_count": null,
   "id": "30053dd5",
   "metadata": {},
   "outputs": [],
   "source": [
    "# Feature"
   ]
  },
  {
   "cell_type": "code",
   "execution_count": 105,
   "id": "1f309845",
   "metadata": {},
   "outputs": [
    {
     "name": "stdout",
     "output_type": "stream",
     "text": [
      "(7352, 20)\n"
     ]
    }
   ],
   "source": [
    "from sklearn.decomposition import PCA\n",
    "# print(X_train.iloc[:, :-3])\n",
    "\n",
    "pca = PCA(n_components =20)\n",
    "fit = pca.fit(X_train.iloc[:, :-3])\n",
    "transformed = fit.transform(X_train.iloc[:, :-3])\n",
    "print(transformed.shape)"
   ]
  },
  {
   "cell_type": "code",
   "execution_count": 110,
   "id": "b92cdd2d",
   "metadata": {},
   "outputs": [
    {
     "data": {
      "text/plain": [
       "array([[-5.52028030e+00, -2.90277517e-01, -1.52992855e+00, ...,\n",
       "         6.31489685e-01,  5.42850025e-01,  6.26741971e-01],\n",
       "       [-5.53534954e+00, -8.25302495e-02, -1.92480428e+00, ...,\n",
       "        -4.51126763e-01,  1.85914371e-01,  7.33245012e-02],\n",
       "       [-5.47498801e+00,  2.87387051e-01, -2.14464160e+00, ...,\n",
       "        -3.24585267e-01,  5.48015227e-01,  1.59002600e-01],\n",
       "       ...,\n",
       "       [ 5.85750527e+00, -3.08184349e+00,  6.71207303e-01, ...,\n",
       "        -5.90089287e-01, -1.77202949e-03,  1.25854887e+00],\n",
       "       [ 5.42109482e+00, -3.42643018e+00,  6.71243268e-01, ...,\n",
       "        -3.52286635e-01, -7.19227158e-02,  2.36666360e-01],\n",
       "       [ 5.49797027e+00, -2.78992873e+00,  5.72224048e-03, ...,\n",
       "         4.71462475e-01, -2.70503334e-01,  2.81732699e-01]])"
      ]
     },
     "execution_count": 110,
     "metadata": {},
     "output_type": "execute_result"
    }
   ],
   "source": [
    "transformed.view()"
   ]
  },
  {
   "cell_type": "code",
   "execution_count": null,
   "id": "7c33c77a",
   "metadata": {},
   "outputs": [],
   "source": []
  }
 ],
 "metadata": {
  "kernelspec": {
   "display_name": "Python 3 (ipykernel)",
   "language": "python",
   "name": "python3"
  },
  "language_info": {
   "codemirror_mode": {
    "name": "ipython",
    "version": 3
   },
   "file_extension": ".py",
   "mimetype": "text/x-python",
   "name": "python",
   "nbconvert_exporter": "python",
   "pygments_lexer": "ipython3",
   "version": "3.9.6"
  }
 },
 "nbformat": 4,
 "nbformat_minor": 5
}
