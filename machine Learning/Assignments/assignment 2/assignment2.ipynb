{
  "nbformat": 4,
  "nbformat_minor": 0,
  "metadata": {
    "colab": {
      "name": "assignment2.ipynb",
      "provenance": [],
      "collapsed_sections": []
    },
    "kernelspec": {
      "name": "python3",
      "display_name": "Python 3"
    },
    "language_info": {
      "name": "python"
    }
  },
  "cells": [
    {
      "cell_type": "code",
      "metadata": {
        "id": "frB9YYI6CH8J"
      },
      "source": [
        "import pandas as pd\n",
        "import numpy as np\n"
      ],
      "execution_count": null,
      "outputs": []
    },
    {
      "cell_type": "code",
      "metadata": {
        "id": "PfwSjWWCCqPo"
      },
      "source": [
        "dataset = pd.read_csv('student_scores.csv')"
      ],
      "execution_count": null,
      "outputs": []
    },
    {
      "cell_type": "code",
      "metadata": {
        "id": "hE-yj95_C0qH"
      },
      "source": [
        "x = dataset.iloc[:,:-1]\n",
        "y = dataset.iloc[:,-1]"
      ],
      "execution_count": null,
      "outputs": []
    },
    {
      "cell_type": "code",
      "metadata": {
        "colab": {
          "base_uri": "https://localhost:8080/"
        },
        "id": "Hr0mIkJ0OwED",
        "outputId": "8ba7ac53-2916-4b95-ce9f-e082da0a44de"
      },
      "source": [
        "print(dataset)"
      ],
      "execution_count": null,
      "outputs": [
        {
          "output_type": "stream",
          "text": [
            "    Hours  Scores\n",
            "0     2.5      21\n",
            "1     5.1      47\n",
            "2     3.2      27\n",
            "3     8.5      75\n",
            "4     3.5      30\n",
            "5     1.5      20\n",
            "6     9.2      88\n",
            "7     5.5      60\n",
            "8     8.3      81\n",
            "9     2.7      25\n",
            "10    7.7      85\n",
            "11    5.9      62\n",
            "12    4.5      41\n",
            "13    3.3      42\n",
            "14    1.1      17\n",
            "15    8.9      95\n",
            "16    2.5      30\n",
            "17    1.9      24\n",
            "18    6.1      67\n",
            "19    7.4      69\n",
            "20    2.7      30\n",
            "21    4.8      54\n",
            "22    3.8      35\n",
            "23    6.9      76\n",
            "24    7.8      86\n"
          ],
          "name": "stdout"
        }
      ]
    },
    {
      "cell_type": "code",
      "metadata": {
        "colab": {
          "base_uri": "https://localhost:8080/"
        },
        "id": "g1C05inJO0t2",
        "outputId": "4490d30e-474b-4ee1-833d-2fd1867b3230"
      },
      "source": [
        "print(x)\n",
        "print(\"\\n\")\n",
        "print(y)"
      ],
      "execution_count": null,
      "outputs": [
        {
          "output_type": "stream",
          "text": [
            "    Hours\n",
            "0     2.5\n",
            "1     5.1\n",
            "2     3.2\n",
            "3     8.5\n",
            "4     3.5\n",
            "5     1.5\n",
            "6     9.2\n",
            "7     5.5\n",
            "8     8.3\n",
            "9     2.7\n",
            "10    7.7\n",
            "11    5.9\n",
            "12    4.5\n",
            "13    3.3\n",
            "14    1.1\n",
            "15    8.9\n",
            "16    2.5\n",
            "17    1.9\n",
            "18    6.1\n",
            "19    7.4\n",
            "20    2.7\n",
            "21    4.8\n",
            "22    3.8\n",
            "23    6.9\n",
            "24    7.8\n",
            "\n",
            "\n",
            "0     21\n",
            "1     47\n",
            "2     27\n",
            "3     75\n",
            "4     30\n",
            "5     20\n",
            "6     88\n",
            "7     60\n",
            "8     81\n",
            "9     25\n",
            "10    85\n",
            "11    62\n",
            "12    41\n",
            "13    42\n",
            "14    17\n",
            "15    95\n",
            "16    30\n",
            "17    24\n",
            "18    67\n",
            "19    69\n",
            "20    30\n",
            "21    54\n",
            "22    35\n",
            "23    76\n",
            "24    86\n",
            "Name: Scores, dtype: int64\n"
          ],
          "name": "stdout"
        }
      ]
    },
    {
      "cell_type": "code",
      "metadata": {
        "id": "SX2ArJxhG1Nk"
      },
      "source": [
        "number_of_features = len(x.columns)"
      ],
      "execution_count": null,
      "outputs": []
    },
    {
      "cell_type": "code",
      "metadata": {
        "colab": {
          "base_uri": "https://localhost:8080/"
        },
        "id": "uMOQXxp_G7Zw",
        "outputId": "6c9afe53-98f0-4291-fed6-dfe3c36911c2"
      },
      "source": [
        "print(number_of_features)"
      ],
      "execution_count": null,
      "outputs": [
        {
          "output_type": "stream",
          "text": [
            "1\n"
          ],
          "name": "stdout"
        }
      ]
    },
    {
      "cell_type": "code",
      "metadata": {
        "colab": {
          "base_uri": "https://localhost:8080/"
        },
        "id": "G0neGDCqHBWA",
        "outputId": "8acc724b-5144-4d16-d929-8796b2e5817c"
      },
      "source": [
        "print(f\" range is {min(y),max(y)}\")"
      ],
      "execution_count": null,
      "outputs": [
        {
          "output_type": "stream",
          "text": [
            " range is (17, 95)\n"
          ],
          "name": "stdout"
        }
      ]
    },
    {
      "cell_type": "markdown",
      "metadata": {
        "id": "UxlktE8oKK3c"
      },
      "source": [
        "# 2\n"
      ]
    },
    {
      "cell_type": "code",
      "metadata": {
        "id": "3gEWqbELKM17"
      },
      "source": [
        "from sklearn.model_selection import train_test_split\n",
        "x_90,x_10,y_90,y_10 = train_test_split(x,y,test_size=0.1,random_state= 1)\n",
        "\n"
      ],
      "execution_count": null,
      "outputs": []
    },
    {
      "cell_type": "code",
      "metadata": {
        "colab": {
          "base_uri": "https://localhost:8080/"
        },
        "id": "f4tjVPAiZAkU",
        "outputId": "1ed5e642-152e-4a80-dd04-75e385fd855e"
      },
      "source": [
        "print(x_10)\n",
        "print(\"\\n\")\n",
        "print(x_90)\n",
        "print(\"\\n\")\n",
        "print(y_10)\n",
        "print(\"\\n\")\n",
        "print(y_90)"
      ],
      "execution_count": null,
      "outputs": [
        {
          "output_type": "stream",
          "text": [
            "    Hours\n",
            "14    1.1\n",
            "13    3.3\n",
            "17    1.9\n",
            "\n",
            "\n",
            "    Hours\n",
            "3     8.5\n",
            "21    4.8\n",
            "10    7.7\n",
            "18    6.1\n",
            "19    7.4\n",
            "4     3.5\n",
            "2     3.2\n",
            "20    2.7\n",
            "6     9.2\n",
            "7     5.5\n",
            "22    3.8\n",
            "1     5.1\n",
            "16    2.5\n",
            "0     2.5\n",
            "15    8.9\n",
            "24    7.8\n",
            "23    6.9\n",
            "9     2.7\n",
            "8     8.3\n",
            "12    4.5\n",
            "11    5.9\n",
            "5     1.5\n",
            "\n",
            "\n",
            "14    17\n",
            "13    42\n",
            "17    24\n",
            "Name: Scores, dtype: int64\n",
            "\n",
            "\n",
            "3     75\n",
            "21    54\n",
            "10    85\n",
            "18    67\n",
            "19    69\n",
            "4     30\n",
            "2     27\n",
            "20    30\n",
            "6     88\n",
            "7     60\n",
            "22    35\n",
            "1     47\n",
            "16    30\n",
            "0     21\n",
            "15    95\n",
            "24    86\n",
            "23    76\n",
            "9     25\n",
            "8     81\n",
            "12    41\n",
            "11    62\n",
            "5     20\n",
            "Name: Scores, dtype: int64\n"
          ],
          "name": "stdout"
        }
      ]
    },
    {
      "cell_type": "code",
      "metadata": {
        "id": "61oERRCBcjl-"
      },
      "source": [
        "x_10,x_90,y_10,y_90 = train_test_split(x,y,test_size=0.9,random_state= 1)"
      ],
      "execution_count": null,
      "outputs": []
    },
    {
      "cell_type": "code",
      "metadata": {
        "colab": {
          "base_uri": "https://localhost:8080/"
        },
        "id": "80UcOQ3Dcrne",
        "outputId": "0f50a9d1-be7b-4701-c416-b637ae2fe435"
      },
      "source": [
        "print(x_10)\n",
        "print(\"\\n\")\n",
        "print(x_90)\n",
        "print(\"\\n\")\n",
        "print(y_10)\n",
        "print(\"\\n\")\n",
        "print(y_90)"
      ],
      "execution_count": null,
      "outputs": [
        {
          "output_type": "stream",
          "text": [
            "    Hours\n",
            "11    5.9\n",
            "5     1.5\n",
            "\n",
            "\n",
            "    Hours\n",
            "14    1.1\n",
            "13    3.3\n",
            "17    1.9\n",
            "3     8.5\n",
            "21    4.8\n",
            "10    7.7\n",
            "18    6.1\n",
            "19    7.4\n",
            "4     3.5\n",
            "2     3.2\n",
            "20    2.7\n",
            "6     9.2\n",
            "7     5.5\n",
            "22    3.8\n",
            "1     5.1\n",
            "16    2.5\n",
            "0     2.5\n",
            "15    8.9\n",
            "24    7.8\n",
            "23    6.9\n",
            "9     2.7\n",
            "8     8.3\n",
            "12    4.5\n",
            "\n",
            "\n",
            "11    62\n",
            "5     20\n",
            "Name: Scores, dtype: int64\n",
            "\n",
            "\n",
            "14    17\n",
            "13    42\n",
            "17    24\n",
            "3     75\n",
            "21    54\n",
            "10    85\n",
            "18    67\n",
            "19    69\n",
            "4     30\n",
            "2     27\n",
            "20    30\n",
            "6     88\n",
            "7     60\n",
            "22    35\n",
            "1     47\n",
            "16    30\n",
            "0     21\n",
            "15    95\n",
            "24    86\n",
            "23    76\n",
            "9     25\n",
            "8     81\n",
            "12    41\n",
            "Name: Scores, dtype: int64\n"
          ],
          "name": "stdout"
        }
      ]
    },
    {
      "cell_type": "markdown",
      "metadata": {
        "id": "M1_JrUpONcU6"
      },
      "source": [
        "#3"
      ]
    },
    {
      "cell_type": "code",
      "metadata": {
        "colab": {
          "base_uri": "https://localhost:8080/"
        },
        "id": "DnCuyxxuNeNi",
        "outputId": "872b0b4b-47ef-4920-8e45-e6d141da4f1a"
      },
      "source": [
        "col_mean = dataset.mean(axis = 0)\n",
        "print(\"column wise mean\", \"\\n\", col_mean)"
      ],
      "execution_count": null,
      "outputs": [
        {
          "output_type": "stream",
          "text": [
            "column wise mean \n",
            " Hours      5.012\n",
            "Scores    51.480\n",
            "dtype: float64\n"
          ],
          "name": "stdout"
        }
      ]
    },
    {
      "cell_type": "code",
      "metadata": {
        "colab": {
          "base_uri": "https://localhost:8080/"
        },
        "id": "sM5TIXtyOQYW",
        "outputId": "3b675d9b-63d4-43f9-8c95-111c818dd5e9"
      },
      "source": [
        "row_mean = dataset.mean(axis=1)\n",
        "print(\"row wise mean\", \"\\n\",row_mean)"
      ],
      "execution_count": null,
      "outputs": [
        {
          "output_type": "stream",
          "text": [
            "row wise mean \n",
            " 0     11.75\n",
            "1     26.05\n",
            "2     15.10\n",
            "3     41.75\n",
            "4     16.75\n",
            "5     10.75\n",
            "6     48.60\n",
            "7     32.75\n",
            "8     44.65\n",
            "9     13.85\n",
            "10    46.35\n",
            "11    33.95\n",
            "12    22.75\n",
            "13    22.65\n",
            "14     9.05\n",
            "15    51.95\n",
            "16    16.25\n",
            "17    12.95\n",
            "18    36.55\n",
            "19    38.20\n",
            "20    16.35\n",
            "21    29.40\n",
            "22    19.40\n",
            "23    41.45\n",
            "24    46.90\n",
            "dtype: float64\n"
          ],
          "name": "stdout"
        }
      ]
    },
    {
      "cell_type": "code",
      "metadata": {
        "colab": {
          "base_uri": "https://localhost:8080/"
        },
        "id": "g8_8bV8dOxjd",
        "outputId": "0a8bd3d9-3ccc-40a0-ca7c-6f1cdf4e7a3a"
      },
      "source": [
        "col_median = dataset.median(axis = 0)\n",
        "row_median = dataset.median(axis = 1)\n",
        "print(\"column wise median\", \"\\n\", col_median)\n",
        "print(\"\\n\")\n",
        "print(\"row wise median\", \"\\n\", row_median)"
      ],
      "execution_count": null,
      "outputs": [
        {
          "output_type": "stream",
          "text": [
            "column wise median \n",
            " Hours      4.8\n",
            "Scores    47.0\n",
            "dtype: float64\n",
            "\n",
            "\n",
            "row wise median \n",
            " 0     11.75\n",
            "1     26.05\n",
            "2     15.10\n",
            "3     41.75\n",
            "4     16.75\n",
            "5     10.75\n",
            "6     48.60\n",
            "7     32.75\n",
            "8     44.65\n",
            "9     13.85\n",
            "10    46.35\n",
            "11    33.95\n",
            "12    22.75\n",
            "13    22.65\n",
            "14     9.05\n",
            "15    51.95\n",
            "16    16.25\n",
            "17    12.95\n",
            "18    36.55\n",
            "19    38.20\n",
            "20    16.35\n",
            "21    29.40\n",
            "22    19.40\n",
            "23    41.45\n",
            "24    46.90\n",
            "dtype: float64\n"
          ],
          "name": "stdout"
        }
      ]
    },
    {
      "cell_type": "code",
      "metadata": {
        "colab": {
          "base_uri": "https://localhost:8080/"
        },
        "id": "dedvvTD_QCpy",
        "outputId": "9993b525-276a-48de-8f5b-42a35836eb08"
      },
      "source": [
        "col_mode = dataset.mode(axis=0)\n",
        "row_mode = dataset.mode(axis =1)\n",
        "\n",
        "print(\"column wise mode\", \"\\n\", col_mode)\n",
        "print(\"\\n\")\n",
        "print(\"row wise mode\", \"\\n\", row_mode)"
      ],
      "execution_count": null,
      "outputs": [
        {
          "output_type": "stream",
          "text": [
            "column wise mode \n",
            "    Hours  Scores\n",
            "0    2.5    30.0\n",
            "1    2.7     NaN\n",
            "\n",
            "\n",
            "row wise mode \n",
            "       0     1\n",
            "0   2.5  21.0\n",
            "1   5.1  47.0\n",
            "2   3.2  27.0\n",
            "3   8.5  75.0\n",
            "4   3.5  30.0\n",
            "5   1.5  20.0\n",
            "6   9.2  88.0\n",
            "7   5.5  60.0\n",
            "8   8.3  81.0\n",
            "9   2.7  25.0\n",
            "10  7.7  85.0\n",
            "11  5.9  62.0\n",
            "12  4.5  41.0\n",
            "13  3.3  42.0\n",
            "14  1.1  17.0\n",
            "15  8.9  95.0\n",
            "16  2.5  30.0\n",
            "17  1.9  24.0\n",
            "18  6.1  67.0\n",
            "19  7.4  69.0\n",
            "20  2.7  30.0\n",
            "21  4.8  54.0\n",
            "22  3.8  35.0\n",
            "23  6.9  76.0\n",
            "24  7.8  86.0\n"
          ],
          "name": "stdout"
        }
      ]
    },
    {
      "cell_type": "code",
      "metadata": {
        "colab": {
          "base_uri": "https://localhost:8080/"
        },
        "id": "n7sQ6RMnQmmm",
        "outputId": "77870c53-7e5d-4347-d867-5556fc240912"
      },
      "source": [
        "col_std = dataset.std(axis = 0)\n",
        "row_std = dataset.std(axis = 1)\n",
        "\n",
        "print(\"column wise standard deviation\", \"\\n\", col_std)\n",
        "print(\"\\n\")\n",
        "print(\"row wise standard deviation\", \"\\n\", row_std)"
      ],
      "execution_count": null,
      "outputs": [
        {
          "output_type": "stream",
          "text": [
            "column wise standard deviation \n",
            " Hours      2.525094\n",
            "Scores    25.286887\n",
            "dtype: float64\n",
            "\n",
            "\n",
            "row wise standard deviation \n",
            " 0     13.081475\n",
            "1     29.627774\n",
            "2     16.829141\n",
            "3     47.022601\n",
            "4     18.738330\n",
            "5     13.081475\n",
            "6     55.720014\n",
            "7     38.537320\n",
            "8     51.406663\n",
            "9     15.768481\n",
            "10    54.659354\n",
            "11    39.668690\n",
            "12    25.809398\n",
            "13    27.365032\n",
            "14    11.242998\n",
            "15    60.881894\n",
            "16    19.445436\n",
            "17    15.627060\n",
            "18    43.062803\n",
            "19    43.557778\n",
            "20    19.304015\n",
            "21    34.789654\n",
            "22    22.061732\n",
            "23    48.861079\n",
            "24    55.295750\n",
            "dtype: float64\n"
          ],
          "name": "stdout"
        }
      ]
    },
    {
      "cell_type": "code",
      "metadata": {
        "id": "_73ssw5bRGGK"
      },
      "source": [
        "\n"
      ],
      "execution_count": null,
      "outputs": []
    },
    {
      "cell_type": "markdown",
      "metadata": {
        "id": "HSQZPCR_VW5Y"
      },
      "source": [
        "#4"
      ]
    },
    {
      "cell_type": "code",
      "metadata": {
        "id": "whBoRpmEVX2n"
      },
      "source": [
        "from sklearn.linear_model import LinearRegression"
      ],
      "execution_count": null,
      "outputs": []
    },
    {
      "cell_type": "code",
      "metadata": {
        "colab": {
          "base_uri": "https://localhost:8080/"
        },
        "id": "mLKxPUdQa5eY",
        "outputId": "4125397b-9a89-40ad-ad19-f7a3a7bf76bc"
      },
      "source": [
        "x_train,x_test,y_train,y_test = train_test_split(x,y,test_size=0.2,random_state = 1)\n",
        "regressor = LinearRegression()\n",
        "regressor.fit(x_train,y_train)"
      ],
      "execution_count": null,
      "outputs": [
        {
          "output_type": "execute_result",
          "data": {
            "text/plain": [
              "LinearRegression(copy_X=True, fit_intercept=True, n_jobs=None, normalize=False)"
            ]
          },
          "metadata": {
            "tags": []
          },
          "execution_count": 50
        }
      ]
    },
    {
      "cell_type": "code",
      "metadata": {
        "colab": {
          "base_uri": "https://localhost:8080/"
        },
        "id": "54VWqsXMgNdi",
        "outputId": "31f44054-c6a5-4f34-9562-b075360b5d62"
      },
      "source": [
        "print(regressor.intercept_)"
      ],
      "execution_count": null,
      "outputs": [
        {
          "output_type": "stream",
          "text": [
            "-1.5369573315500702\n"
          ],
          "name": "stdout"
        }
      ]
    },
    {
      "cell_type": "code",
      "metadata": {
        "colab": {
          "base_uri": "https://localhost:8080/"
        },
        "id": "XwNGN0iFg3oX",
        "outputId": "10119962-e6a4-46db-e82f-1eeb41fbc142"
      },
      "source": [
        "print(regressor.coef_)"
      ],
      "execution_count": null,
      "outputs": [
        {
          "output_type": "stream",
          "text": [
            "[10.46110829]\n"
          ],
          "name": "stdout"
        }
      ]
    },
    {
      "cell_type": "code",
      "metadata": {
        "id": "zhMThO5ahxwj"
      },
      "source": [
        "y_pred = regressor.predict(x_test)"
      ],
      "execution_count": null,
      "outputs": []
    },
    {
      "cell_type": "code",
      "metadata": {
        "colab": {
          "base_uri": "https://localhost:8080/"
        },
        "id": "ULLxxvsHkVpP",
        "outputId": "388f52f8-1c8a-4609-c02e-f36e8a425bc3"
      },
      "source": [
        "print(y_pred)"
      ],
      "execution_count": null,
      "outputs": [
        {
          "output_type": "stream",
          "text": [
            "[ 9.97026179 32.98470004 18.33914843 87.38246316 48.67636248]\n"
          ],
          "name": "stdout"
        }
      ]
    },
    {
      "cell_type": "code",
      "metadata": {
        "id": "pkzw0yulkW_S"
      },
      "source": [
        ""
      ],
      "execution_count": null,
      "outputs": []
    }
  ]
}