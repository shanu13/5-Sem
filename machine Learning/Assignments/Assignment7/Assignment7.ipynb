{
  "nbformat": 4,
  "nbformat_minor": 0,
  "metadata": {
    "colab": {
      "name": "Assignment7.ipynb",
      "provenance": []
    },
    "kernelspec": {
      "name": "python3",
      "display_name": "Python 3"
    },
    "language_info": {
      "name": "python"
    }
  },
  "cells": [
    {
      "cell_type": "code",
      "metadata": {
        "id": "McjZTHFtXRqK"
      },
      "source": [
        "import numpy as np\n",
        "import pandas as pd\n",
        "from sklearn.preprocessing import MinMaxScaler"
      ],
      "execution_count": null,
      "outputs": []
    },
    {
      "cell_type": "code",
      "metadata": {
        "id": "I7FE5CUGct8Y"
      },
      "source": [
        "from sklearn import datasets\n",
        "data = datasets.load_wine()"
      ],
      "execution_count": null,
      "outputs": []
    },
    {
      "cell_type": "code",
      "metadata": {
        "id": "e7mfdbXSoBZt"
      },
      "source": [
        "ydata = np.array(data['target'])\n",
        "xdata = np.array(data['data'])\n",
        "scaler = MinMaxScaler()\n",
        "scaler.fit(xdata)\n",
        "xdata = scaler.transform(xdata)"
      ],
      "execution_count": null,
      "outputs": []
    },
    {
      "cell_type": "code",
      "metadata": {
        "id": "KLCPOjhlizof"
      },
      "source": [
        "from sklearn.model_selection import train_test_split"
      ],
      "execution_count": null,
      "outputs": []
    },
    {
      "cell_type": "code",
      "metadata": {
        "id": "_qqVj-e7jMpf"
      },
      "source": [
        "xtrain,xrem,ytrain,yrem = train_test_split(xdata,ydata,test_size= 0.5,random_state=30)\n",
        "xvalid,xtest,yvalid,ytest = train_test_split(xrem,yrem,test_size= 0.6,random_state=30)"
      ],
      "execution_count": null,
      "outputs": []
    },
    {
      "cell_type": "code",
      "metadata": {
        "colab": {
          "base_uri": "https://localhost:8080/"
        },
        "id": "Yl4YBCCBmOo1",
        "outputId": "330670cf-aec2-4b65-9de2-c5497beff27f"
      },
      "source": [
        "print(\"No of the feature vectors: %d\"%xdata.shape[1])\n",
        "print(\"No of the Patterns: %d\"%xdata.shape[0])\n",
        "print(\"No of classes:\", list(set(wine['target'])))"
      ],
      "execution_count": null,
      "outputs": [
        {
          "output_type": "stream",
          "name": "stdout",
          "text": [
            "No of the feature vectors: 13\n",
            "No of the Patterns: 178\n",
            "No of classes: [0, 1, 2]\n"
          ]
        }
      ]
    },
    {
      "cell_type": "code",
      "metadata": {
        "id": "CmCEhsQ6jP2O"
      },
      "source": [
        "from sklearn.model_selection import KFold"
      ],
      "execution_count": null,
      "outputs": []
    },
    {
      "cell_type": "code",
      "metadata": {
        "id": "odDjZdv0mEul"
      },
      "source": [
        "def fold(features,y_actual):\n",
        "  kf = KFold(n_splits=5,random_state=1000, shuffle=True)\n",
        "  kf.get_n_splits(features)\n",
        "  print(kf)\n",
        "  all_x_train = []\n",
        "  all_x_test = []\n",
        "  all_y_train = []\n",
        "  all_y_test = []\n",
        "  for train_index, test_index in kf.split(features):\n",
        "    X_train, X_test = features[train_index], features[test_index]\n",
        "    y_train, y_test = y_actual[train_index], y_actual[test_index]\n",
        "    all_x_train.append(X_train)\n",
        "    all_x_test.append(X_test)\n",
        "    all_y_train.append(y_train)\n",
        "    all_y_test.append(y_test)\n",
        "  all_x_train, all_x_test, all_y_train, all_y_test  = np.array(all_x_train), np.array(all_x_test), np.array(all_y_train), np.array(all_y_test)\n",
        "  return all_x_train, all_x_test, all_y_train, all_y_test"
      ],
      "execution_count": null,
      "outputs": []
    },
    {
      "cell_type": "code",
      "metadata": {
        "id": "W6khWBNkmeud"
      },
      "source": [
        "def sigmoid(x):\n",
        "  z = 1/(1 + np.exp(-x))\n",
        "  return z\n",
        "def Logistic_Regression(alpha, x, y, roh = 0.0001, max_iter=10):\n",
        "    converged = False\n",
        "    iter = 0\n",
        "    m = x.shape[0]\n",
        "    n = x.shape[1]\n",
        "    # Initial Weights\n",
        "    weight = np.ones(n+1)\n",
        "    hypo = np.ones(m)\n",
        "    random.seed(10) # for the same weight intialization\n",
        "    for i in range(0, n+1):\n",
        "      weight[i] = random.uniform(-0.3, 0.3)\n",
        "    # calculate the hypothesis value with the intial weights\n",
        "    k = 0\n",
        "    for i in range(0, m):\n",
        "      rest = 0 \n",
        "      for j in range(1, n+1):\n",
        "        rest = rest + weight[j]*x[i][j-1]\n",
        "      hypo[i] = 1*weight[0] + rest\n",
        "      hypo[i] = sigmoid(hypo[i]) # call sigmoid function for the hypothesis\n",
        "    # implement log loss function of the error\n",
        "    temp_sum = 0\n",
        "    for i in range(0, x.shape[0]):\n",
        "      temp_sum = temp_sum + ((y[i]*math.log(hypo[i])) + (1-y[i])*math.log(hypo[i]))\n",
        "    log_loss = -(1/x.shape[0])*temp_sum\n",
        "    while not converged:\n",
        "        error = 0\n",
        "        # Update the weight\n",
        "        hypothesis = 0\n",
        "        temp_out = 0\n",
        "        for i in range(0, m):\n",
        "          rest = 0 \n",
        "          for j in range(1, n+1):\n",
        "            rest = rest + weight[j]*x[i][j-1]\n",
        "          hypo[i] = 1*weight[0] + rest\n",
        "          hypo[i] = sigmoid(hypo[i])\n",
        "        for i in range(0, m):\n",
        "          weight[0] = (hypo[i] - y[i])*1\n",
        "        for i in range(0, m): # fix the row\n",
        "          hypothesis = 0\n",
        "          for j in range(0, n+1): # fix the column\n",
        "            hypothesis = hypothesis + weight[j+1]*x[i][j] # hypothesis calculation\n",
        "          temp_out = temp_out + (weight[0] + hypothesis - y[j])*1 # as xi,0 = 1\n",
        "        my_sum[0] = temp_out # for the weight 0\n",
        "        # for rest of the weights\n",
        "        for k in range(1, n+1):\n",
        "          hypothesis = weight[0]\n",
        "          temp_out = 0\n",
        "          for i in range(0, m): # vary the row\n",
        "            for j in range(0, n):\n",
        "              hypothesis = hypothesis + weight[j+1]*x[i][j]\n",
        "            temp_out = temp_out + (weight[1] + temp_in - y[j])*x[i][k]\n",
        "          my_sum[k] = temp_out\n",
        "        # weight updatation\n",
        "        for j in range(0,n+1):\n",
        "          weight[j] = weight[j] - (alpha/m) * my_sum[j]\n",
        "        return weight\n",
        "        # Calculate the Mean Squared Error\n",
        "        for i in range(0,m): # vary the row\n",
        "          for j in range(0,x.shape[1]):\n",
        "            temp_in = temp_in + weight[j+1]*x[i][j]\n",
        "          error = error + (weight[0] + temp_in - y[i])**2 # total error\n",
        "        print(error)\n",
        "        if abs(total_error-error) <= ep:\n",
        "            print(total_error)\n",
        "            print(error)\n",
        "            print('Converged, iterations: ', iter, '!!!')\n",
        "            converged = True\n",
        "        total_error = error  # update error \n",
        "        iter += 1  # update iter\n",
        "        if iter == max_iter:\n",
        "            print('Max interactions exceeded!')\n",
        "            converged = True\n",
        "    return weight, error"
      ],
      "execution_count": null,
      "outputs": []
    },
    {
      "cell_type": "code",
      "metadata": {
        "id": "d1lGt9Azp8it"
      },
      "source": [
        ""
      ],
      "execution_count": null,
      "outputs": []
    }
  ]
}