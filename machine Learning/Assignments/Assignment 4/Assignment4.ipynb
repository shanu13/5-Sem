{
  "nbformat": 4,
  "nbformat_minor": 0,
  "metadata": {
    "colab": {
      "name": "Assignment4.ipynb",
      "provenance": [],
      "collapsed_sections": []
    },
    "kernelspec": {
      "name": "python3",
      "display_name": "Python 3"
    },
    "language_info": {
      "name": "python"
    }
  },
  "cells": [
    {
      "cell_type": "code",
      "metadata": {
        "id": "c2LkIgjSIu71"
      },
      "source": [
        "import numpy as np\n",
        "import pandas as pd"
      ],
      "execution_count": null,
      "outputs": []
    },
    {
      "cell_type": "code",
      "metadata": {
        "id": "oyvBOkwzS9ya"
      },
      "source": [
        "class Gradient_Regression():\n",
        "\n",
        "  def __init__(self,learning_rate,epochs):\n",
        "    self.lr = learning_rate\n",
        "    self.iteration = epochs\n",
        "\n",
        "  def train(self,xdata,ydata):\n",
        "    self.p = xdata.shape[0]\n",
        "    self.f = 1;\n",
        "    self.X = xdata\n",
        "    self.Y = ydata\n",
        "    self.w = np.ones(self.f)\n",
        "    # self.w.reshape((1,1))\n",
        "    self.c = 1\n",
        "    \n",
        "    for i in range(self.iteration) :\n",
        "      self.update_weights()\n",
        "\n",
        "    return self.jw\n",
        "\n",
        "  def update_weights(self):\n",
        "    ypred = self.predict_Y(self.X)\n",
        "    self.jw = self.calculate_mse(ypred,self.Y)\n",
        "    sum1 = 0;\n",
        "    sum2 = 0;\n",
        "\n",
        "    for i in range(self.p):\n",
        "      sum1 += self.X[i]*(ypred[i] - self.Y[i])\n",
        "      sum2 += ypred[i] - self.Y[i]\n",
        "\n",
        "    dw = self.lr*(sum1/self.p)\n",
        "    dc =  self.lr*(sum2/self.p)\n",
        "    self.w = self.w-dw\n",
        "    self.c = self.c-dc\n",
        "    \n",
        "    \n",
        "\n",
        "  def predict_Y(self, xdata):\n",
        "    # print(self.p)\n",
        "    ypred = []\n",
        "    for i in range(self.p):\n",
        "     ypred.append(xdata[i]*self.w + self.c)\n",
        "\n",
        "    # print(ypred)\n",
        "    return ypred\n",
        "\n",
        "   \n",
        "  def calculate_mse(self,ypred,y):\n",
        "    mse = 0;\n",
        "    for i in range(self.p):\n",
        "      mse += np.square(ypred[i]-y[i])\n",
        "    return mse/(2*self.p)\n",
        "    "
      ],
      "execution_count": null,
      "outputs": []
    },
    {
      "cell_type": "code",
      "metadata": {
        "id": "Q28dIbkEQtSD"
      },
      "source": [
        ""
      ],
      "execution_count": null,
      "outputs": []
    },
    {
      "cell_type": "code",
      "metadata": {
        "id": "c2SQoqTPLkpc"
      },
      "source": [
        "dataset = pd.read_csv('data.csv')\n",
        "data = pd.DataFrame(dataset)\n",
        "print(data)"
      ],
      "execution_count": null,
      "outputs": []
    },
    {
      "cell_type": "code",
      "metadata": {
        "id": "InLMUa6gL87c"
      },
      "source": [
        "x = data.iloc[:, :-1]\n",
        "y = data.iloc[:, -1]\n"
      ],
      "execution_count": null,
      "outputs": []
    },
    {
      "cell_type": "code",
      "metadata": {
        "id": "FcrtdFkyMpM0"
      },
      "source": [
        "print(x)"
      ],
      "execution_count": null,
      "outputs": []
    },
    {
      "cell_type": "code",
      "metadata": {
        "id": "qnIVyUtNMqaB"
      },
      "source": [
        "print(y)"
      ],
      "execution_count": null,
      "outputs": []
    },
    {
      "cell_type": "code",
      "metadata": {
        "id": "vYho8C9CMsQZ"
      },
      "source": [
        "train = data.sample(frac =0.5)"
      ],
      "execution_count": null,
      "outputs": []
    },
    {
      "cell_type": "code",
      "metadata": {
        "id": "Xk-m4VbhNy_y"
      },
      "source": [
        "print(train)"
      ],
      "execution_count": null,
      "outputs": []
    },
    {
      "cell_type": "code",
      "metadata": {
        "id": "ScKU-xRJN8PU"
      },
      "source": [
        "valid = data.drop(train.index)\n",
        "valid = valid.sample(frac=0.4)"
      ],
      "execution_count": null,
      "outputs": []
    },
    {
      "cell_type": "code",
      "metadata": {
        "id": "u6N8WcBtOOOf"
      },
      "source": [
        "print(valid)"
      ],
      "execution_count": null,
      "outputs": []
    },
    {
      "cell_type": "code",
      "metadata": {
        "id": "q6Uy2-VDOP7U"
      },
      "source": [
        "test = data.drop(train.index).drop(valid.index)"
      ],
      "execution_count": null,
      "outputs": []
    },
    {
      "cell_type": "code",
      "metadata": {
        "id": "Riic33ftPHBB"
      },
      "source": [
        "print(test)"
      ],
      "execution_count": null,
      "outputs": []
    },
    {
      "cell_type": "code",
      "metadata": {
        "colab": {
          "base_uri": "https://localhost:8080/"
        },
        "id": "duuuDWdF4YwP",
        "outputId": "a6aa75d8-80c7-48c5-fb42-b4afc3e1ef42"
      },
      "source": [
        "xtrain = train.iloc[:,:-1]\n",
        "ytrain = train.iloc[:,-1]\n",
        "xtrain = np.array(xtrain).ravel()\n",
        "ytrain = np.array(ytrain).ravel()\n",
        "# ytrain = ytrain.reshape(len(ytrain),1)\n",
        "print(xtrain)\n",
        "print(ytrain)"
      ],
      "execution_count": null,
      "outputs": [
        {
          "output_type": "stream",
          "name": "stdout",
          "text": [
            "[  6  26   2  10   4   5  40  30   4  11  11  19  45   6  29  29   4   3\n",
            "   0   9  61  24  37  23  16  55 108   7  14  20   3   5]\n",
            "[ 14.8 187.5   6.6  65.3  12.6  20.9 119.4 194.5  11.8  21.3  57.2  46.2\n",
            " 214.   50.9 103.9 133.3  38.1  13.2   0.   48.7 217.6 137.9 152.8  39.6\n",
            "  59.6 162.8 392.5  77.5  77.5  98.1   4.4  40.3]\n"
          ]
        }
      ]
    },
    {
      "cell_type": "code",
      "metadata": {
        "id": "ZYGCqon75D2C"
      },
      "source": [
        "xvalid = valid.iloc[:,:-1];\n",
        "yvalid = valid.iloc[:,-1];\n",
        "print(yvalid)"
      ],
      "execution_count": null,
      "outputs": []
    },
    {
      "cell_type": "code",
      "metadata": {
        "id": "GV1ySyft5QIV"
      },
      "source": [
        "xtest = test.iloc[:,:-1];\n",
        "ytest = test.iloc[:,-1]\n",
        "print(ytest)"
      ],
      "execution_count": null,
      "outputs": []
    },
    {
      "cell_type": "code",
      "metadata": {
        "colab": {
          "base_uri": "https://localhost:8080/"
        },
        "id": "oTqRYwtUPJDp",
        "outputId": "b97094bc-0aa8-4e50-cbaf-0fe29a8c0137"
      },
      "source": [
        "learning_rate = [0.1, 0.001, 0.0001, 0.5,1]\n",
        "for lr in learning_rate:\n",
        "  Gr = Gradient_Regression(lr,5)\n",
        "  model_data = Gr.train(xtrain, ytrain)\n",
        "  print(model_data)"
      ],
      "execution_count": null,
      "outputs": [
        {
          "output_type": "stream",
          "name": "stdout",
          "text": [
            "[1.88238718e+19]\n",
            "[504.68198976]\n",
            "[2236.33322296]\n",
            "[7.88230651e+24]\n",
            "[2.03539148e+27]\n"
          ]
        }
      ]
    },
    {
      "cell_type": "code",
      "metadata": {
        "id": "Ervgf_Gcu4Yr"
      },
      "source": [
        ""
      ],
      "execution_count": null,
      "outputs": []
    }
  ]
}