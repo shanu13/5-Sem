{
  "nbformat": 4,
  "nbformat_minor": 0,
  "metadata": {
    "colab": {
      "name": "evaluation3.ipynb",
      "provenance": []
    },
    "kernelspec": {
      "name": "python3",
      "display_name": "Python 3"
    },
    "language_info": {
      "name": "python"
    }
  },
  "cells": [
    {
      "cell_type": "code",
      "metadata": {
        "id": "pKzcpYe-0g-u"
      },
      "source": [
        "import numpy as np\n",
        "import pandas as pd\n",
        "from sklearn import datasets\n",
        "import math\n",
        "from sklearn.preprocessing import normalize\n",
        "import matplotlib.pyplot as plt\n",
        "import random\n",
        "from sklearn.metrics import silhouette_score"
      ],
      "execution_count": null,
      "outputs": []
    },
    {
      "cell_type": "code",
      "metadata": {
        "id": "HXgdEQE50ntd"
      },
      "source": [
        "iris = datasets.load_iris()\n",
        "iris_df = pd.DataFrame(iris.data, columns=iris.feature_names)\n",
        "features = [f for f in iris_df.columns]\n",
        "print('Features:', features)\n",
        "iris_df = normalize(iris_df)\n",
        "display(iris_df)"
      ],
      "execution_count": null,
      "outputs": []
    },
    {
      "cell_type": "code",
      "metadata": {
        "id": "5ZNigreq0sXv"
      },
      "source": [
        "def getCost(X, centres):\n",
        "  k = len(centres)\n",
        "  n = len(X)\n",
        "  # print('cneters: ', centres)\n",
        "  group_label = np.zeros((n))\n",
        "  for i in range(n):\n",
        "    # ith sample\n",
        "\n",
        "    done = 0\n",
        "\n",
        "    for j in range(k):\n",
        "      if(i == centres[j]):\n",
        "        group_label[i] = j\n",
        "        done = 1\n",
        "\n",
        "    if(done):\n",
        "      continue\n",
        "\n",
        "    dist = []\n",
        "\n",
        "    for j in range(k):\n",
        "      # jth cluster centre\n",
        "      dist.append(math.sqrt(np.sum((X[i]-X[centres[j]])**2)))\n",
        "\n",
        "    group_label[i] = dist.index(min(dist))\n",
        "  \n",
        "  return silhouette_score(X, group_label)"
      ],
      "execution_count": null,
      "outputs": []
    },
    {
      "cell_type": "code",
      "metadata": {
        "id": "NbS6Uzax2mKb"
      },
      "source": [
        "def KmetiodsCluster(X, k, maxEpoch):\n",
        "  n = len(X)\n",
        "  centres = np.array(random.sample(range(n), k))\n",
        "  print(centres)\n",
        "  cost_list = []\n",
        "  epoch_list = []\n",
        "  ep = 0\n",
        "\n",
        "  for _ in range(maxEpoch):\n",
        "    ep += 1\n",
        "    # for i in range(n):\n",
        "    #   # ith sample\n",
        "    #   dist = []\n",
        "    #   for j in range(k):\n",
        "    #     # jth cluster centre\n",
        "    #     dist.append(math.sqrt(np.sum((X[i]-X[centre[j]])**2)))\n",
        "    #   group_label[i] = dist.index(min(dist))\n",
        "\n",
        "    # print(centres)\n",
        "    # print(_group_label)\n",
        "\n",
        "    cur_cost = getCost(X, centres)\n",
        "    # print(cur_cost)\n",
        "\n",
        "    _centres = np.copy(centres)\n",
        "\n",
        "    # print('_centres = ', _centres)\n",
        "\n",
        "    for i in range(k):\n",
        "      # print('i: ', i)\n",
        "      for j in range(n):\n",
        "        # print('j: ', j)\n",
        "        if(j == centres[i]):\n",
        "          continue\n",
        "        prev = centres[i]\n",
        "        centres[i] = j\n",
        "        new_cost = getCost(X, centres)\n",
        "        # print('New cost: ', new_cost)\n",
        "        if(new_cost <= cur_cost):\n",
        "          centres[i] = prev\n",
        "        # print(centres)\n",
        "    \n",
        "    # print('centres = ', centres)\n",
        "\n",
        "    cur_cost = getCost(X, centres)\n",
        "    cost_list.append(cur_cost)\n",
        "    epoch_list.append(ep)\n",
        "\n",
        "    if(np.array_equal(_centres, centres)):\n",
        "      break\n",
        "\n",
        "    # if(np.array_equal(_centres, centres)):\n",
        "    #   break\n",
        "\n",
        "  print('no of epochs: ', epoch_list[-1])\n",
        "  print('sse list: ', cost_list)\n",
        "  plt.plot(epoch_list, cost_list)\n",
        "  plt.show()\n",
        "  return cost_list[-1]"
      ],
      "execution_count": null,
      "outputs": []
    },
    {
      "cell_type": "code",
      "metadata": {
        "colab": {
          "base_uri": "https://localhost:8080/",
          "height": 357
        },
        "id": "QHlBYg4e2-W9",
        "outputId": "20061331-c4a3-47b8-e61a-420f9d9b4eb0"
      },
      "source": [
        "KmetiodsCluster(iris_df, 3, 100)"
      ],
      "execution_count": null,
      "outputs": [
        {
          "output_type": "stream",
          "name": "stdout",
          "text": [
            "[130 114  61]\n",
            "no of epochs:  18\n",
            "sse list:  [0.27686983936718107, 0.38058989951186023, 0.3810819374395191, 0.41635047690605725, 0.4283582582290785, 0.44737916083591783, 0.44796735660397813, 0.4730527509432507, 0.5705127127465616, 0.5719409645589714, 0.5724835763194158, 0.573989239755684, 0.5758706068962987, 0.6207609747886613, 0.6224217359781568, 0.6265140826200186, 0.6940699649132857, 0.6940699649132857]\n"
          ]
        },
        {
          "output_type": "display_data",
          "data": {
            "image/png": "[encoded data removed]",
            "text/plain": [
              "<Figure size 432x288 with 1 Axes>"
            ]
          },
          "metadata": {
            "needs_background": "light"
          }
        },
        {
          "output_type": "execute_result",
          "data": {
            "text/plain": [
              "0.6940699649132857"
            ]
          },
          "metadata": {},
          "execution_count": 12
        }
      ]
    },
    {
      "cell_type": "code",
      "metadata": {
        "id": "Otoz3q2V3Gzv"
      },
      "source": [
        ""
      ],
      "execution_count": null,
      "outputs": []
    }
  ]
}