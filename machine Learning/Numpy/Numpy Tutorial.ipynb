{
 "cells": [
  {
   "cell_type": "code",
   "execution_count": 1,
   "id": "e04c0fa8",
   "metadata": {},
   "outputs": [],
   "source": [
    "import numpy as np"
   ]
  },
  {
   "cell_type": "code",
   "execution_count": 2,
   "id": "618b2314",
   "metadata": {},
   "outputs": [],
   "source": [
    "myarr = np.array([5,56,8,7],np.int64)"
   ]
  },
  {
   "cell_type": "code",
   "execution_count": 3,
   "id": "865976fc",
   "metadata": {},
   "outputs": [
    {
     "data": {
      "text/plain": [
       "8"
      ]
     },
     "execution_count": 3,
     "metadata": {},
     "output_type": "execute_result"
    }
   ],
   "source": [
    "myarr[2]"
   ]
  },
  {
   "cell_type": "code",
   "execution_count": 4,
   "id": "06820f0d",
   "metadata": {},
   "outputs": [
    {
     "data": {
      "text/plain": [
       "(4,)"
      ]
     },
     "execution_count": 4,
     "metadata": {},
     "output_type": "execute_result"
    }
   ],
   "source": [
    "myarr.shape #shape"
   ]
  },
  {
   "cell_type": "code",
   "execution_count": 5,
   "id": "d0e3e945",
   "metadata": {},
   "outputs": [
    {
     "data": {
      "text/plain": [
       "dtype('int64')"
      ]
     },
     "execution_count": 5,
     "metadata": {},
     "output_type": "execute_result"
    }
   ],
   "source": [
    "myarr.dtype"
   ]
  },
  {
   "cell_type": "markdown",
   "id": "3e015ac2",
   "metadata": {},
   "source": [
    "**Array Creation**\n"
   ]
  },
  {
   "cell_type": "code",
   "execution_count": 6,
   "id": "a1c9efd6",
   "metadata": {},
   "outputs": [],
   "source": [
    "zeros = np.zeros((2,6))"
   ]
  },
  {
   "cell_type": "code",
   "execution_count": 7,
   "id": "6d026ce9",
   "metadata": {},
   "outputs": [
    {
     "data": {
      "text/plain": [
       "array([[0., 0., 0., 0., 0., 0.],\n",
       "       [0., 0., 0., 0., 0., 0.]])"
      ]
     },
     "execution_count": 7,
     "metadata": {},
     "output_type": "execute_result"
    }
   ],
   "source": [
    "zeros"
   ]
  },
  {
   "cell_type": "code",
   "execution_count": 8,
   "id": "3d0b3a5c",
   "metadata": {},
   "outputs": [],
   "source": [
    "rng = np.arange(20)"
   ]
  },
  {
   "cell_type": "code",
   "execution_count": 9,
   "id": "888b6570",
   "metadata": {},
   "outputs": [
    {
     "data": {
      "text/plain": [
       "array([ 0,  1,  2,  3,  4,  5,  6,  7,  8,  9, 10, 11, 12, 13, 14, 15, 16,\n",
       "       17, 18, 19])"
      ]
     },
     "execution_count": 9,
     "metadata": {},
     "output_type": "execute_result"
    }
   ],
   "source": [
    "rng"
   ]
  },
  {
   "cell_type": "code",
   "execution_count": 10,
   "id": "602fc459",
   "metadata": {},
   "outputs": [],
   "source": [
    "ones = np.ones(10)\n"
   ]
  },
  {
   "cell_type": "code",
   "execution_count": 11,
   "id": "70f3652b",
   "metadata": {},
   "outputs": [
    {
     "data": {
      "text/plain": [
       "array([1., 1., 1., 1., 1., 1., 1., 1., 1., 1.])"
      ]
     },
     "execution_count": 11,
     "metadata": {},
     "output_type": "execute_result"
    }
   ],
   "source": [
    "ones"
   ]
  },
  {
   "cell_type": "code",
   "execution_count": 12,
   "id": "23cb877a",
   "metadata": {},
   "outputs": [],
   "source": [
    "t = np.arange(3,10,2) #+2 iterator"
   ]
  },
  {
   "cell_type": "code",
   "execution_count": 13,
   "id": "15b3c9d7",
   "metadata": {},
   "outputs": [
    {
     "data": {
      "text/plain": [
       "array([3, 5, 7, 9])"
      ]
     },
     "execution_count": 13,
     "metadata": {},
     "output_type": "execute_result"
    }
   ],
   "source": [
    "t"
   ]
  },
  {
   "cell_type": "code",
   "execution_count": 14,
   "id": "eeecd11e",
   "metadata": {},
   "outputs": [],
   "source": [
    " rndm = np.random.normal(0,1,1)"
   ]
  },
  {
   "cell_type": "code",
   "execution_count": 15,
   "id": "a9647f92",
   "metadata": {},
   "outputs": [
    {
     "data": {
      "text/plain": [
       "array([-1.44855389])"
      ]
     },
     "execution_count": 15,
     "metadata": {},
     "output_type": "execute_result"
    }
   ],
   "source": [
    "rndm"
   ]
  },
  {
   "cell_type": "code",
   "execution_count": 16,
   "id": "712caff3",
   "metadata": {},
   "outputs": [],
   "source": [
    "rdd = np.random.rand()"
   ]
  },
  {
   "cell_type": "code",
   "execution_count": 17,
   "id": "a035482c",
   "metadata": {},
   "outputs": [
    {
     "data": {
      "text/plain": [
       "0.11002116746431323"
      ]
     },
     "execution_count": 17,
     "metadata": {},
     "output_type": "execute_result"
    }
   ],
   "source": [
    "rdd"
   ]
  },
  {
   "cell_type": "code",
   "execution_count": 20,
   "id": "704e0ded",
   "metadata": {},
   "outputs": [],
   "source": [
    "rd = np.random.rand(1,1)*5 +10\n",
    "\n"
   ]
  },
  {
   "cell_type": "code",
   "execution_count": 21,
   "id": "b12f9eb1",
   "metadata": {},
   "outputs": [
    {
     "data": {
      "text/plain": [
       "array([[12.26420766]])"
      ]
     },
     "execution_count": 21,
     "metadata": {},
     "output_type": "execute_result"
    }
   ],
   "source": [
    "rd"
   ]
  },
  {
   "cell_type": "code",
   "execution_count": null,
   "id": "6cca1ac6",
   "metadata": {},
   "outputs": [],
   "source": []
  }
 ],
 "metadata": {
  "kernelspec": {
   "display_name": "Python 3 (ipykernel)",
   "language": "python",
   "name": "python3"
  },
  "language_info": {
   "codemirror_mode": {
    "name": "ipython",
    "version": 3
   },
   "file_extension": ".py",
   "mimetype": "text/x-python",
   "name": "python",
   "nbconvert_exporter": "python",
   "pygments_lexer": "ipython3",
   "version": "3.9.6"
  }
 },
 "nbformat": 4,
 "nbformat_minor": 5
}
