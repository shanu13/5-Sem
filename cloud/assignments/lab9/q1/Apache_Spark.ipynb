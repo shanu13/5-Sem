{
  "nbformat": 4,
  "nbformat_minor": 0,
  "metadata": {
    "colab": {
      "name": "Apache Spark.ipynb",
      "provenance": [],
      "collapsed_sections": []
    },
    "kernelspec": {
      "display_name": "Python 3 (ipykernel)",
      "language": "python",
      "name": "python3"
    },
    "language_info": {
      "codemirror_mode": {
        "name": "ipython",
        "version": 3
      },
      "file_extension": ".py",
      "mimetype": "text/x-python",
      "name": "python",
      "nbconvert_exporter": "python",
      "pygments_lexer": "ipython3",
      "version": "3.10.0"
    }
  },
  "cells": [
    {
      "cell_type": "code",
      "metadata": {
        "id": "gep3axWLAi1Y"
      },
      "source": [
        "import numpy as np\n",
        "import pandas as pd\n",
        "\n",
        "from sklearn.cluster import KMeans\n",
        "from sklearn.model_selection import train_test_split"
      ],
      "execution_count": 44,
      "outputs": []
    },
    {
      "cell_type": "code",
      "metadata": {
        "id": "UP2xUf9WBF2I"
      },
      "source": [
        "df = pd.read_csv('adult.data')"
      ],
      "execution_count": 40,
      "outputs": []
    },
    {
      "cell_type": "code",
      "metadata": {
        "colab": {
          "base_uri": "https://localhost:8080/"
        },
        "id": "n3Y9MCixBLRS",
        "outputId": "d9431723-1847-4127-b331-7e74b484e6e0"
      },
      "source": [
        "print(set(df.iloc[:, -1]))"
      ],
      "execution_count": 43,
      "outputs": [
        {
          "output_type": "stream",
          "name": "stdout",
          "text": [
            "{' <=50K', ' >50K'}\n"
          ]
        }
      ]
    },
    {
      "cell_type": "code",
      "metadata": {
        "colab": {
          "base_uri": "https://localhost:8080/"
        },
        "id": "Lkm3TSubCcfi",
        "outputId": "22e738f5-06bf-4a7f-c58e-cda23bdd3115"
      },
      "source": [
        "print(df.iloc[0])"
      ],
      "execution_count": 51,
      "outputs": [
        {
          "output_type": "stream",
          "name": "stdout",
          "text": [
            "39                                 50\n",
            " State-gov           Self-emp-not-inc\n",
            " 77516                          83311\n",
            " Bachelors                  Bachelors\n",
            " 13                                13\n",
            " Never-married     Married-civ-spouse\n",
            " Adm-clerical         Exec-managerial\n",
            " Not-in-family                Husband\n",
            " White                          White\n",
            " Male                            Male\n",
            " 2174                               0\n",
            " 0                                  0\n",
            " 40                                13\n",
            " United-States          United-States\n",
            " <=50K                          <=50K\n",
            "Name: 0, dtype: object\n"
          ]
        }
      ]
    },
    {
      "cell_type": "code",
      "metadata": {
        "colab": {
          "base_uri": "https://localhost:8080/"
        },
        "id": "HVXCj-1nClz5",
        "outputId": "0b91f694-5314-4e6d-d07b-5a9b81994dc4"
      },
      "source": [
        "df_new = pd.concat([df.iloc[:, 0], df.iloc[:, 2], df.iloc[:, 12], df.iloc[:, 14]], axis=1)\n",
        "print(df_new)"
      ],
      "execution_count": 65,
      "outputs": [
        {
          "output_type": "stream",
          "name": "stdout",
          "text": [
            "       39   77516   40   <=50K\n",
            "0      50   83311   13   <=50K\n",
            "1      38  215646   40   <=50K\n",
            "2      53  234721   40   <=50K\n",
            "3      28  338409   40   <=50K\n",
            "4      37  284582   40   <=50K\n",
            "...    ..     ...  ...     ...\n",
            "32555  27  257302   38   <=50K\n",
            "32556  40  154374   40    >50K\n",
            "32557  58  151910   40   <=50K\n",
            "32558  22  201490   20   <=50K\n",
            "32559  52  287927   40    >50K\n",
            "\n",
            "[32560 rows x 4 columns]\n"
          ]
        }
      ]
    },
    {
      "cell_type": "code",
      "metadata": {
        "id": "Tw8zZObsBXj-"
      },
      "source": [
        "learning , test = train_test_split(df_new, train_size=0.7, test_size=0.3)\n",
        "\n",
        "kmeans = KMeans(n_clusters=2)"
      ],
      "execution_count": 59,
      "outputs": []
    },
    {
      "cell_type": "code",
      "metadata": {
        "colab": {
          "base_uri": "https://localhost:8080/"
        },
        "id": "kQCU4DhSCI3B",
        "outputId": "47147daa-6498-4d91-8be5-7c9ccf544bc7"
      },
      "source": [
        "print(learning, test)"
      ],
      "execution_count": 61,
      "outputs": [
        {
          "output_type": "stream",
          "name": "stdout",
          "text": [
            "       39   77516   40\n",
            "2829   63   41161   55\n",
            "31436  38  193026   40\n",
            "3678   18  107277   20\n",
            "29203  27   55390   45\n",
            "18668  45  318280   50\n",
            "...    ..     ...  ...\n",
            "20203  18  210574   20\n",
            "7713   47  123681   60\n",
            "6352   29  301031   40\n",
            "23154  44  193755   40\n",
            "14290  40  308027   40\n",
            "\n",
            "[22792 rows x 3 columns]        39   77516   40\n",
            "26808  36  110791   40\n",
            "6488   21  451996   40\n",
            "8364   34  241360   40\n",
            "17110  45  204057   40\n",
            "3276   35  180342   40\n",
            "...    ..     ...  ...\n",
            "9181   46  123598   48\n",
            "11154  26  248990   40\n",
            "692    20  316702   20\n",
            "2583   57  348430   40\n",
            "12849  26  133766   70\n",
            "\n",
            "[9768 rows x 3 columns]\n"
          ]
        }
      ]
    },
    {
      "cell_type": "code",
      "metadata": {
        "colab": {
          "base_uri": "https://localhost:8080/"
        },
        "id": "_BJ4Eml5ByO5",
        "outputId": "546c0180-4234-4d3e-9b11-de9aef5422d6"
      },
      "source": [
        "kmeans.fit(learning.iloc[:, :-1])\n",
        "predict = kmeans.predict(test.iloc[:, :-1])\n",
        "print(kmeans.inertia_)\n",
        "print(kmeans.cluster_centers_)\n",
        "\n",
        "score = 0\n",
        "for i in range(test.shape[0]):\n",
        "  if predict[i] == test.iloc[i, -1]:\n",
        "    score += 1\n",
        "print(score / test.shape[0])"
      ],
      "execution_count": 68,
      "outputs": [
        {
          "output_type": "stream",
          "name": "stdout",
          "text": [
            "102970628608607.9\n",
            "[[3.90800871e+01 1.42413636e+05]\n",
            " [3.68002760e+01 3.27663355e+05]]\n",
            "0.00020475020475020476\n"
          ]
        }
      ]
    }
  ]
}